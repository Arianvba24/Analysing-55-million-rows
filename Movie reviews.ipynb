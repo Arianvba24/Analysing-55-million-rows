{
 "cells": [
  {
   "cell_type": "code",
   "execution_count": 71,
   "id": "449f0bc8",
   "metadata": {},
   "outputs": [
    {
     "data": {
      "application/vnd.jupyter.widget-view+json": {
       "model_id": "d60f0ffef55c4f81917c12ef6adb3b4e",
       "version_major": 2,
       "version_minor": 0
      },
      "text/plain": [
       "FloatProgress(value=0.0, layout=Layout(width='auto'), style=ProgressStyle(bar_color='black'))"
      ]
     },
     "metadata": {},
     "output_type": "display_data"
    }
   ],
   "source": [
    "#Reading files\n",
    "import duckdb\n",
    "\n",
    "#Reviews-----------\n",
    "db = duckdb.read_csv(r\"C:\\Users\\Cash\\Downloads\\user_reviews.csv\\user_reviews.csv\")\n",
    "db.write_parquet(r\"out.parquet\")\n",
    "# Critic names\n",
    "db = duckdb.read_csv(r\"C:\\Users\\Cash\\Downloads\\critic_reviews.csv\\critic_reviews.csv\")\n",
    "db.write_parquet(r\"out1.parquet\")\n",
    "# Movie names\n",
    "db = duckdb.read_csv(r\"C:\\Users\\Cash\\Downloads\\movies.csv\\movies.csv\")\n",
    "db.write_parquet(r\"out2.parquet\")\n"
   ]
  },
  {
   "cell_type": "code",
   "execution_count": 60,
   "id": "d2c7ecb6",
   "metadata": {},
   "outputs": [
    {
     "name": "stdout",
     "output_type": "stream",
     "text": [
      "Hola mundo\n",
      "┌──────────────┐\n",
      "│ count_star() │\n",
      "│    int64     │\n",
      "├──────────────┤\n",
      "│        11473 │\n",
      "└──────────────┘\n",
      "\n"
     ]
    }
   ],
   "source": [
    "# Number of diferent movieIds\n",
    "from duckdb.experimental.spark.sql import SparkSession as session\n",
    "from duckdb.experimental.spark.sql.functions import lit, col\n",
    "\n",
    "spark = session.builder.getOrCreate()\n",
    "\n",
    "db_spark = spark.read.parquet(r\"out.parquet\")\n",
    "\n",
    "\n",
    "db_spark.groupBy(\"movieId\").count().show()\n",
    "\n"
   ]
  },
  {
   "cell_type": "code",
   "execution_count": 31,
   "id": "eec13227",
   "metadata": {},
   "outputs": [
    {
     "name": "stdout",
     "output_type": "stream",
     "text": [
      "movieId\n",
      "rating\n",
      "quote\n",
      "reviewId\n",
      "isVerified\n",
      "isSuperReviewer\n",
      "hasSpoilers\n",
      "hasProfanity\n",
      "score\n",
      "creationDate\n",
      "userDisplayName\n",
      "userRealm\n",
      "userId\n"
     ]
    }
   ],
   "source": [
    "# Getting the columns names\n",
    "import time\n",
    "# start = time.perf_counter()\n",
    "con = duckdb.connect()\n",
    "dl = con.query(\"\"\"\n",
    "SELECT *\n",
    "FROM db\n",
    "LIMIT 1;\n",
    "\"\"\")\n",
    "columns_list = dl.to_df().columns.to_list()\n",
    "for i in columns_list : print(i)"
   ]
  },
  {
   "cell_type": "code",
   "execution_count": 94,
   "id": "fb0ca40d",
   "metadata": {},
   "outputs": [],
   "source": [
    "Using PySpark to create more tables\n",
    "spark = session.builder.getOrCreate()\n",
    "\n",
    "db_spark1 = spark.read.parquet(r\"out1.parquet\")\n",
    "db_spark2 = spark.read.parquet(r\"out2.parquet\")\n",
    "\n",
    "# Reviews\n",
    "db_spark = spark.read.parquet(r\"out.parquet\")\n",
    "db_spark.createOrReplaceTempView(\"db_spark\")\n",
    "# Critics\n",
    "db_spark1.createOrReplaceTempView(\"db_spark1\")\n",
    "# Movie name\n",
    "db_spark2.createOrReplaceTempView(\"db_spark2\")"
   ]
  },
  {
   "cell_type": "code",
   "execution_count": 166,
   "id": "411f0e9f",
   "metadata": {},
   "outputs": [
    {
     "data": {
      "text/plain": [
       "┌───────────────────────────────────────────────┬───────────────┐\n",
       "│                  movieTitle                   │ Total_reviews │\n",
       "│                    varchar                    │     int64     │\n",
       "├───────────────────────────────────────────────┼───────────────┤\n",
       "│ Titanic                                       │       1157597 │\n",
       "│ The Lord of the Rings: The Return of the King │        730791 │\n",
       "│ Harry Potter and the Goblet of Fire           │        694063 │\n",
       "│ Shrek 2                                       │        681042 │\n",
       "│ Charlie and the Chocolate Factory             │        661197 │\n",
       "└───────────────────────────────────────────────┴───────────────┘"
      ]
     },
     "execution_count": 166,
     "metadata": {},
     "output_type": "execute_result"
    }
   ],
   "source": [
    "# Name of the top 5 most reviewed movies\n",
    "spark.sql(\"\"\"\n",
    "SELECT db_spark2.movieTitle, COUNT(*) as Total_reviews\n",
    "FROM db_spark2\n",
    "INNER JOIN db_spark\n",
    "ON db_spark2.movieId = db_spark.movieId\n",
    "GROUP BY db_spark2.movieTitle\n",
    "ORDER BY Total_reviews desc\n",
    "LIMIT 5;\n",
    "\"\"\")"
   ]
  },
  {
   "cell_type": "code",
   "execution_count": 164,
   "id": "fea580d2",
   "metadata": {},
   "outputs": [
    {
     "data": {
      "text/plain": [
       "┌────────────────────────────────────────────────────┬───────────────┐\n",
       "│                     movieTitle                     │ Total_reviews │\n",
       "│                      varchar                       │     int64     │\n",
       "├────────────────────────────────────────────────────┼───────────────┤\n",
       "│ Divorce in the Black                               │            24 │\n",
       "│ Descendants: The Rise of Red                       │             8 │\n",
       "│ The Garfield Movie                                 │             2 │\n",
       "│ Kingdom of the Planet of the Apes                  │             2 │\n",
       "│ Justice League: Crisis on Infinite Earths Part One │             1 │\n",
       "│ Hannah Berner: We Ride at Dawn                     │             1 │\n",
       "│ The Exorcism                                       │             1 │\n",
       "│ Dragonkeeper                                       │             1 │\n",
       "│ Indian                                             │             1 │\n",
       "└────────────────────────────────────────────────────┴───────────────┘"
      ]
     },
     "execution_count": 164,
     "metadata": {},
     "output_type": "execute_result"
    }
   ],
   "source": [
    "# Number of reviews created the last year\n",
    "reviews_frame = spark.sql(\"\"\"\n",
    "SELECT db_spark2.movieTitle, COUNT(*) as Total_reviews\n",
    "FROM db_spark2\n",
    "INNER JOIN db_spark\n",
    "ON db_spark2.movieId = db_spark.movieId\n",
    "WHERE db_spark.creationDate = (\n",
    "SELECT MAX(db_spark.creationDate)\n",
    "FROM db_spark\n",
    ")\n",
    "GROUP BY db_spark2.movieTitle\n",
    "ORDER BY Total_reviews desc;\n",
    "\"\"\")\n",
    "\n",
    "reviews_frame"
   ]
  },
  {
   "cell_type": "code",
   "execution_count": 170,
   "id": "36c72542",
   "metadata": {},
   "outputs": [
    {
     "data": {
      "text/plain": [
       "┌────────────────┐\n",
       "│ Total_Spoilers │\n",
       "│     int64      │\n",
       "├────────────────┤\n",
       "│          11473 │\n",
       "└────────────────┘"
      ]
     },
     "execution_count": 170,
     "metadata": {},
     "output_type": "execute_result"
    }
   ],
   "source": [
    "# Number of reviews that have spoilers\n",
    "spark.sql(\"\"\"\n",
    "SELECT COUNT(*) as Total_Spoilers\n",
    "FROM db_spark\n",
    "WHERE hasSpoilers = true\n",
    ";\n",
    "\"\"\")\n"
   ]
  },
  {
   "cell_type": "code",
   "execution_count": 172,
   "id": "781895d1",
   "metadata": {},
   "outputs": [
    {
     "data": {
      "text/plain": [
       "┌─────────────────────┐\n",
       "│ Reviews_more_than_4 │\n",
       "│        int64        │\n",
       "├─────────────────────┤\n",
       "│            21012715 │\n",
       "└─────────────────────┘"
      ]
     },
     "execution_count": 172,
     "metadata": {},
     "output_type": "execute_result"
    }
   ],
   "source": [
    "# Number of reviews that the score is higher than 4\n",
    "\n",
    "spark.sql(\"\"\"\n",
    "SELECT COUNT(*) as Reviews_more_than_4\n",
    "FROM db_spark\n",
    "WHERE score > 4;\n",
    "\"\"\")\n"
   ]
  },
  {
   "cell_type": "code",
   "execution_count": 185,
   "id": "3e8e29fa",
   "metadata": {},
   "outputs": [
    {
     "data": {
      "application/vnd.jupyter.widget-view+json": {
       "model_id": "fc02d4b10a07483d953f92c3a4518831",
       "version_major": 2,
       "version_minor": 0
      },
      "text/plain": [
       "FloatProgress(value=0.0, layout=Layout(width='auto'), style=ProgressStyle(bar_color='black'))"
      ]
     },
     "metadata": {},
     "output_type": "display_data"
    },
    {
     "data": {
      "application/vnd.jupyter.widget-view+json": {
       "model_id": "f4a4b24579264046a8408c1fefb59d6e",
       "version_major": 2,
       "version_minor": 0
      },
      "text/plain": [
       "FloatProgress(value=0.0, layout=Layout(width='auto'), style=ProgressStyle(bar_color='black'))"
      ]
     },
     "metadata": {},
     "output_type": "display_data"
    },
    {
     "data": {
      "text/plain": [
       "┌───────────────────────────────────────────────┬─────────────┐\n",
       "│                  movieTitle                   │ Final_score │\n",
       "│                    varchar                    │   double    │\n",
       "├───────────────────────────────────────────────┼─────────────┤\n",
       "│ Rocky                                         │         5.0 │\n",
       "│ Rocky                                         │         5.0 │\n",
       "│ Rocky                                         │         5.0 │\n",
       "│ Rocky                                         │         5.0 │\n",
       "│ Rocky                                         │         5.0 │\n",
       "│ Rocky                                         │         5.0 │\n",
       "│ Rocky                                         │         5.0 │\n",
       "│ Rocky                                         │         5.0 │\n",
       "│ Rocky                                         │         5.0 │\n",
       "│ Rocky                                         │         5.0 │\n",
       "│   ·                                           │          ·  │\n",
       "│   ·                                           │          ·  │\n",
       "│   ·                                           │          ·  │\n",
       "│ The Lord of the Rings: The Return of the King │         5.0 │\n",
       "│ The Lord of the Rings: The Return of the King │         5.0 │\n",
       "│ The Lord of the Rings: The Return of the King │         5.0 │\n",
       "│ The Lord of the Rings: The Return of the King │         5.0 │\n",
       "│ The Lord of the Rings: The Return of the King │         5.0 │\n",
       "│ The Lord of the Rings: The Return of the King │         5.0 │\n",
       "│ The Lord of the Rings: The Return of the King │         5.0 │\n",
       "│ The Lord of the Rings: The Return of the King │         5.0 │\n",
       "│ The Lord of the Rings: The Return of the King │         5.0 │\n",
       "│ The Lord of the Rings: The Return of the King │         5.0 │\n",
       "├───────────────────────────────────────────────┴─────────────┤\n",
       "│ ? rows (>9999 rows, 20 shown)                     2 columns │\n",
       "└─────────────────────────────────────────────────────────────┘"
      ]
     },
     "execution_count": 185,
     "metadata": {},
     "output_type": "execute_result"
    }
   ],
   "source": [
    "# Name of movies whose score is higher or equal to 4\n",
    "spark.sql(\n",
    "\"\"\"\n",
    "SELECT db_spark2.movieTitle,db_spark.score as Final_score\n",
    "FROM db_spark2\n",
    "INNER JOIN db_spark\n",
    "ON db_spark2.movieId = db_spark.movieId\n",
    "WHERE db_spark.score >= 4\n",
    "ORDER BY Final_score desc;\n",
    "\"\"\")\n",
    "    "
   ]
  }
 ],
 "metadata": {
  "kernelspec": {
   "display_name": "Python 3 (ipykernel)",
   "language": "python",
   "name": "python3"
  },
  "language_info": {
   "codemirror_mode": {
    "name": "ipython",
    "version": 3
   },
   "file_extension": ".py",
   "mimetype": "text/x-python",
   "name": "python",
   "nbconvert_exporter": "python",
   "pygments_lexer": "ipython3",
   "version": "3.11.9"
  }
 },
 "nbformat": 4,
 "nbformat_minor": 5
}
